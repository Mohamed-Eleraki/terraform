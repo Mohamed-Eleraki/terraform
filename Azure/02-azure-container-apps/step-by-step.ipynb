{
 "cells": [
  {
   "cell_type": "markdown",
   "metadata": {},
   "source": [
    "# Project Steps-by-step "
   ]
  },
  {
   "cell_type": "markdown",
   "metadata": {},
   "source": [
    "### Install Azure CLI\n",
    "\n",
    "https://learn.microsoft.com/en-us/cli/azure/install-azure-cli-linux?view=azure-cli-latest&pivots=dnf"
   ]
  },
  {
   "cell_type": "markdown",
   "metadata": {},
   "source": [
    "### Azure auth"
   ]
  },
  {
   "cell_type": "code",
   "execution_count": null,
   "metadata": {
    "vscode": {
     "languageId": "plaintext"
    }
   },
   "outputs": [],
   "source": [
    "az login\n",
    "az account set --subscription \"<SUBSCRIPTION_ID>\""
   ]
  },
  {
   "cell_type": "markdown",
   "metadata": {},
   "source": [
    "### Create a Resouce group"
   ]
  },
  {
   "cell_type": "code",
   "execution_count": null,
   "metadata": {
    "vscode": {
     "languageId": "plaintext"
    }
   },
   "outputs": [],
   "source": [
    "az group create \\\n",
    "  --name eraki-containerApps-us1-rg-1001 \\\n",
    "  --location eastus\n",
    "  --tags Project=containerAppsPr Environment=Dev"
   ]
  },
  {
   "cell_type": "markdown",
   "metadata": {},
   "source": [
    "### Create a user-assigned managed identity"
   ]
  },
  {
   "cell_type": "code",
   "execution_count": null,
   "metadata": {
    "vscode": {
     "languageId": "plaintext"
    }
   },
   "outputs": [],
   "source": [
    "az identity create \\\n",
    "  --name terraform-uami \\\n",
    "  --resource-group eraki-containerApps-us1-rg-1001 \\\n",
    "  --location eastus \\\n",
    "  --tags Project=containerAppsPr Environment=Dev"
   ]
  },
  {
   "cell_type": "markdown",
   "metadata": {},
   "source": [
    "Copy the JSON output somewhere, will be using in the next comand."
   ]
  },
  {
   "cell_type": "markdown",
   "metadata": {},
   "source": [
    "### Assign RBAC to user-assigned managed identity"
   ]
  },
  {
   "cell_type": "code",
   "execution_count": null,
   "metadata": {
    "vscode": {
     "languageId": "plaintext"
    }
   },
   "outputs": [],
   "source": [
    "az role assignment create \\\n",
    "  --assignee-object-id <principalId> \\\n",
    "  --role Contributor \\\n",
    "  --scope /subscriptions/<your-subscription-id>"
   ]
  },
  {
   "cell_type": "markdown",
   "metadata": {},
   "source": [
    "### Configure Azure DevOps service connection"
   ]
  },
  {
   "cell_type": "markdown",
   "metadata": {},
   "source": [
    "**Create an Azure DevOps Service Connection**\n",
    "\n",
    "- Go to your Azure DevOps Project:\n",
    "\n",
    "- Project Settings → Service Connections → New Service Connection\n",
    "\n",
    "- Choose Azure Resource Manager → Manage Identity.\n",
    "\n",
    "- Specify you Subscription, Resource group, and Managed identity.\n",
    "\n",
    "- Define Azure scope.\n",
    "\n",
    "- Define Service connection name, then Save."
   ]
  },
  {
   "cell_type": "markdown",
   "metadata": {},
   "source": [
    "### Configure Azure Storage account for state file"
   ]
  },
  {
   "cell_type": "code",
   "execution_count": null,
   "metadata": {
    "vscode": {
     "languageId": "plaintext"
    }
   },
   "outputs": [],
   "source": [
    "# Variables\n",
    "STORAGE_ACCOUNT_NAME=\"erakitfstateaccount$RANDOM\"\n",
    "CONTAINER_NAME=\"containerappstfstate\"\n",
    "\n",
    "# Create resource group\n",
    "az group create --name eraki-containerApps-us1-rg-1001 --location eastus\n",
    "\n",
    "# Create storage account\n",
    "az storage account create \\\n",
    "  --name $STORAGE_ACCOUNT_NAME \\\n",
    "  --resource-group eraki-containerApps-us1-rg-1001 \\\n",
    "  --sku Standard_LRS \\\n",
    "  --encryption-services blob\n",
    "\n",
    "# Create blob container\n",
    "az storage container create \\\n",
    "  --name $CONTAINER_NAME \\\n",
    "  --account-name $STORAGE_ACCOUNT_NAME\n"
   ]
  },
  {
   "cell_type": "markdown",
   "metadata": {},
   "source": [
    "### Configure Terraform provider"
   ]
  },
  {
   "cell_type": "markdown",
   "metadata": {},
   "source": [
    "Run the following Commands"
   ]
  },
  {
   "cell_type": "code",
   "execution_count": null,
   "metadata": {
    "vscode": {
     "languageId": "plaintext"
    }
   },
   "outputs": [],
   "source": [
    "export ARM_SUBSCRIPTION_ID=<SUB_ID>\n",
    "export ARM_CLIENT_ID=<CLIENT_ID>"
   ]
  },
  {
   "cell_type": "markdown",
   "metadata": {},
   "source": [
    "This will be ignored while using Azure DevOps, use Environment variables instead."
   ]
  },
  {
   "cell_type": "code",
   "execution_count": null,
   "metadata": {
    "vscode": {
     "languageId": "plaintext"
    }
   },
   "outputs": [],
   "source": [
    "terraform {\n",
    "  required_providers {\n",
    "    azurerm = {\n",
    "      source = \"hashicorp/azurerm\"\n",
    "      version = \"4.43.0\"\n",
    "    }\n",
    "  }\n",
    "    backend \"azurerm\" {\n",
    "    resource_group_name  = \"eraki-containerApps-us1-rg-1001\"\n",
    "    storage_account_name = \"erakitfstateaccount17108\"\n",
    "    container_name       = \"containerappstfstate\"\n",
    "    key                  = \"containerApps-terraform.tfstate\"\n",
    "    use_msi              = true # use Managed Identity\n",
    "  }\n",
    "}\n",
    "\n",
    "provider \"azurerm\" {\n",
    "  \n",
    "  features {}\n",
    "\n",
    "  use_msi = true  # using user-assigned managed identity\n",
    "\n",
    "  # Set the client_id of your User-assigned MI\n",
    "  client_id = <\"client_id\">\n",
    "\n",
    "  subscription_id = <\"subscription_id\">\n",
    "}\n",
    "\n"
   ]
  },
  {
   "cell_type": "markdown",
   "metadata": {},
   "source": [
    "### Configure Azure Pipeline\n"
   ]
  },
  {
   "cell_type": "code",
   "execution_count": null,
   "metadata": {
    "vscode": {
     "languageId": "plaintext"
    }
   },
   "outputs": [],
   "source": [
    "trigger:\n",
    "- main\n",
    "\n",
    "pool:\n",
    "  name: 'Self-Hosted-Agent-Pool'  # Must point to your VM with the Managed Identity\n",
    "\n",
    "variables:\n",
    "  ARM_CLIENT_ID: 'CLIENT_ID'\n",
    "  ARM_SUBSCRIPTION_ID: 'subscription_id'\n",
    "\n",
    "steps:\n",
    "- task: TerraformInstaller@1\n",
    "  inputs:\n",
    "    terraformVersion: '1.8.0'\n",
    "\n",
    "- script: terraform init\n",
    "  displayName: 'Terraform Init'\n",
    "\n",
    "- script: terraform plan -out=tfplan\n",
    "  displayName: 'Terraform Plan'\n",
    "\n",
    "- script: terraform apply tfplan\n",
    "  displayName: 'Terraform Apply'\n"
   ]
  }
 ],
 "metadata": {
  "language_info": {
   "name": "python"
  }
 },
 "nbformat": 4,
 "nbformat_minor": 2
}
